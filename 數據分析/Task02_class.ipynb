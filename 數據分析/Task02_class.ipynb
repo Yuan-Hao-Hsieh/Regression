{
 "cells": [
  {
   "cell_type": "code",
   "execution_count": 1,
   "metadata": {},
   "outputs": [
    {
     "name": "stdout",
     "output_type": "stream",
     "text": [
      "0    1\n",
      "1    3\n",
      "2    5\n",
      "3    7\n",
      "4    9\n",
      "dtype: int64\n"
     ]
    }
   ],
   "source": [
    "import pandas as pd\n",
    "\n",
    "# 創建一個Series物件\n",
    "s = pd.Series([1, 3, 5, 7, 9])\n",
    "\n",
    "print(s)"
   ]
  },
  {
   "cell_type": "code",
   "execution_count": 2,
   "metadata": {},
   "outputs": [
    {
     "name": "stdout",
     "output_type": "stream",
     "text": [
      "      name  age      city\n",
      "0    Alice   25  New York\n",
      "1      Bob   32     Paris\n",
      "2  Charlie   18    London\n",
      "3    David   47    Berlin\n"
     ]
    }
   ],
   "source": [
    "import pandas as pd\n",
    "\n",
    "# 創建一個DataFrame物件\n",
    "data = {'name': ['Alice', 'Bob', 'Charlie', 'David'],\n",
    "        'age': [25, 32, 18, 47],\n",
    "        'city': ['New York', 'Paris', 'London', 'Berlin']}\n",
    "\n",
    "df = pd.DataFrame(data)\n",
    "\n",
    "print(df)"
   ]
  },
  {
   "cell_type": "code",
   "execution_count": 3,
   "metadata": {},
   "outputs": [
    {
     "name": "stdout",
     "output_type": "stream",
     "text": [
      "[1 3 5 7 9]\n",
      "RangeIndex(start=0, stop=5, step=1)\n",
      "int64\n",
      "(5,)\n"
     ]
    }
   ],
   "source": [
    "import pandas as pd\n",
    "\n",
    "# 創建一個Series物件\n",
    "s = pd.Series([1, 3, 5, 7, 9])\n",
    "\n",
    "# 訪問Series物件的屬性\n",
    "print(s.values)   # [1 3 5 7 9]\n",
    "print(s.index)    # RangeIndex(start=0, stop=5, step=1)\n",
    "print(s.dtype)    # int64\n",
    "print(s.shape)    # (5,)"
   ]
  },
  {
   "cell_type": "code",
   "execution_count": 5,
   "metadata": {},
   "outputs": [
    {
     "name": "stdout",
     "output_type": "stream",
     "text": [
      "[['Alice' 25 'New York']\n",
      " ['Bob' 32 'Paris']\n",
      " ['Charlie' 18 'London']\n",
      " ['David' 47 'Berlin']]\n",
      "RangeIndex(start=0, stop=4, step=1)\n",
      "Index(['name', 'age', 'city'], dtype='object')\n",
      "name    object\n",
      "age      int64\n",
      "city    object\n",
      "dtype: object\n",
      "(4, 3)\n"
     ]
    }
   ],
   "source": [
    "import pandas as pd\n",
    "\n",
    "# 創建一個DataFrame物件\n",
    "data = {'name': ['Alice', 'Bob', 'Charlie', 'David'],\n",
    "        'age': [25, 32, 18, 47],\n",
    "        'city': ['New York', 'Paris', 'London', 'Berlin']}\n",
    "\n",
    "df = pd.DataFrame(data)\n",
    "\n",
    "# 訪問DataFrame物件的屬性\n",
    "print(df.values)\n",
    "print(df.index)    # RangeIndex(start=0, stop=4, step=1)\n",
    "print(df.columns)  # Index(['name', 'age', 'city'], dtype='object')\n",
    "print(df.dtypes)\n",
    "print(df.shape)    # (4, 3)"
   ]
  },
  {
   "cell_type": "code",
   "execution_count": 19,
   "metadata": {},
   "outputs": [
    {
     "name": "stdout",
     "output_type": "stream",
     "text": [
      "      name  age      city\n",
      "0    Alice   25  New York\n",
      "1      Bob   32     Paris\n",
      "2  Charlie   18    London\n",
      "3    David   47    Berlin\n",
      "0    25\n",
      "1    32\n",
      "2    18\n",
      "3    47\n",
      "Name: age, dtype: int64\n",
      "      name      city\n",
      "0    Alice  New York\n",
      "1      Bob     Paris\n",
      "2  Charlie    London\n",
      "3    David    Berlin\n"
     ]
    }
   ],
   "source": [
    "data = {'name': ['Alice', 'Bob', 'Charlie', 'David'],\n",
    "        'age': [25, 32, 18, 47],\n",
    "        'city': ['New York', 'Paris', 'London', 'Berlin']}\n",
    "\n",
    "df = pd.DataFrame(data)\n",
    "print(df)\n",
    "print(df['age'])\n",
    "print(df[['name', 'city']])\n"
   ]
  },
  {
   "cell_type": "code",
   "execution_count": 21,
   "metadata": {},
   "outputs": [
    {
     "name": "stdout",
     "output_type": "stream",
     "text": [
      "      name  age    city\n",
      "1      Bob   32   Paris\n",
      "2  Charlie   18  London\n",
      "3    David   47  Berlin\n"
     ]
    }
   ],
   "source": [
    "# 通過行索引選取\n",
    "print(df[1:4])\n"
   ]
  },
  {
   "cell_type": "code",
   "execution_count": 22,
   "metadata": {},
   "outputs": [
    {
     "name": "stdout",
     "output_type": "stream",
     "text": [
      "         age      city\n",
      "name                  \n",
      "Alice     25  New York\n",
      "Charlie   18    London\n"
     ]
    }
   ],
   "source": [
    "import pandas as pd\n",
    "\n",
    "data = {'name': ['Alice', 'Bob', 'Charlie', 'David'],\n",
    "        'age': [25, 32, 18, 47],\n",
    "        'city': ['New York', 'Paris', 'London', 'Berlin']}\n",
    "df = pd.DataFrame(data)\n",
    "df.set_index('name', inplace=True)\n",
    "\n",
    "# 選取 \"Alice\" 和 \"Charlie\" 兩行的 \"age\" 和 \"city\" 這兩列\n",
    "result = df.loc[['Alice', 'Charlie'], ['age', 'city']]\n",
    "print(result)"
   ]
  },
  {
   "cell_type": "code",
   "execution_count": 23,
   "metadata": {},
   "outputs": [
    {
     "name": "stdout",
     "output_type": "stream",
     "text": [
      "    name  age    city\n",
      "1    Bob   32   Paris\n",
      "3  David   47  Berlin\n"
     ]
    },
    {
     "data": {
      "text/plain": [
       "'\\n    name  age   city\\n1    Bob   32  Paris\\n3  David   47  Berlin\\n'"
      ]
     },
     "execution_count": 23,
     "metadata": {},
     "output_type": "execute_result"
    }
   ],
   "source": [
    "import pandas as pd\n",
    "\n",
    "# 創建一個DataFrame物件\n",
    "data = {'name': ['Alice', 'Bob', 'Charlie', 'David'],\n",
    "        'age': [25, 32, 18, 47],\n",
    "        'city': ['New York', 'Paris', 'London', 'Berlin']}\n",
    "df = pd.DataFrame(data)\n",
    "\n",
    "# 使用遮罩選取\n",
    "mask = df['age'] > 30  # 創建一個年齡大於30的遮罩\n",
    "print(df[mask])\n",
    "\n",
    "\"\"\"\n",
    "    name  age   city\n",
    "1    Bob   32  Paris\n",
    "3  David   47  Berlin\n",
    "\"\"\""
   ]
  },
  {
   "cell_type": "code",
   "execution_count": 24,
   "metadata": {},
   "outputs": [
    {
     "name": "stdout",
     "output_type": "stream",
     "text": [
      "  name  age   city\n",
      "1  Bob   32  Paris\n"
     ]
    }
   ],
   "source": [
    "import pandas as pd\n",
    "\n",
    "# 創建一個DataFrame物件\n",
    "data = {'name': ['Alice', 'Bob', 'Charlie', 'David'],\n",
    "        'age': [25, 32, 18, 47],\n",
    "        'city': ['New York', 'Paris', 'London', 'Berlin']}\n",
    "df = pd.DataFrame(data)\n",
    "\n",
    "# 使用多個條件組合使用遮罩選取\n",
    "mask = (df['age'] > 30) & (df['city'] == 'Paris')  # 創建一個年齡大於30且城市為Paris的遮罩\n",
    "print(df[mask])"
   ]
  },
  {
   "cell_type": "code",
   "execution_count": 26,
   "metadata": {},
   "outputs": [
    {
     "name": "stdout",
     "output_type": "stream",
     "text": [
      "      name  age      city\n",
      "0    Alice   25  New York\n",
      "1      Bob   32     Paris\n",
      "2  Charlie   18    London\n",
      "3    David   47    Berlin\n",
      "    name  age    city\n",
      "0    Eva   29    Rome\n",
      "1  Frank   23  Sydney\n",
      "2  Grace   37   Tokyo\n",
      "3  Henry   31  Moscow\n",
      "           name  age          city\n",
      "0      AliceEva   54  New YorkRome\n",
      "1      BobFrank   55   ParisSydney\n",
      "2  CharlieGrace   55   LondonTokyo\n",
      "3    DavidHenry   78  BerlinMoscow\n"
     ]
    }
   ],
   "source": [
    "import pandas as pd\n",
    "\n",
    "# 創建兩個DataFrame物件\n",
    "data1 = {'name': ['Alice', 'Bob', 'Charlie', 'David'],\n",
    "         'age': [25, 32, 18, 47],\n",
    "         'city': ['New York', 'Paris', 'London', 'Berlin']}\n",
    "df1 = pd.DataFrame(data1)\n",
    "\n",
    "data2 = {'name': ['Eva', 'Frank', 'Grace', 'Henry'],\n",
    "         'age': [29, 23, 37, 31],\n",
    "         'city': ['Rome', 'Sydney', 'Tokyo', 'Moscow']}\n",
    "df2 = pd.DataFrame(data2)\n",
    "\n",
    "# 進行加法\n",
    "print(df1)\n",
    "print(df2)\n",
    "print(df1 + df2)"
   ]
  },
  {
   "cell_type": "code",
   "execution_count": 27,
   "metadata": {},
   "outputs": [
    {
     "name": "stdout",
     "output_type": "stream",
     "text": [
      "      name  age      city\n",
      "2  Charlie   18    London\n",
      "0    Alice   25  New York\n",
      "1      Bob   32     Paris\n",
      "3    David   47    Berlin\n"
     ]
    }
   ],
   "source": [
    "import pandas as pd\n",
    "\n",
    "# 創建一個DataFrame物件\n",
    "data = {'name': ['Alice', 'Bob', 'Charlie', 'David'],\n",
    "        'age': [25, 32, 18, 47],\n",
    "        'city': ['New York', 'Paris', 'London', 'Berlin']}\n",
    "\n",
    "df = pd.DataFrame(data)\n",
    "\n",
    "# 按照age列進行排序，預設為升序排序\n",
    "print(df.sort_values(by='age'))"
   ]
  },
  {
   "cell_type": "code",
   "execution_count": 28,
   "metadata": {},
   "outputs": [
    {
     "name": "stdout",
     "output_type": "stream",
     "text": [
      "      name  age      city\n",
      "3    David   47    Berlin\n",
      "1      Bob   32     Paris\n",
      "0    Alice   25  New York\n",
      "2  Charlie   18    London\n"
     ]
    }
   ],
   "source": [
    "# 按照age列進行降序排序\n",
    "print(df.sort_values(by='age', ascending=False))"
   ]
  },
  {
   "cell_type": "code",
   "execution_count": 29,
   "metadata": {},
   "outputs": [
    {
     "name": "stdout",
     "output_type": "stream",
     "text": [
      "      name  age      city\n",
      "0    Alice   25  New York\n",
      "1      Bob   32     Paris\n",
      "2  Charlie   18    London\n",
      "3    David   47    Berlin\n"
     ]
    }
   ],
   "source": [
    "# 按照索引進行排序\n",
    "print(df.sort_index())"
   ]
  },
  {
   "cell_type": "code",
   "execution_count": 30,
   "metadata": {},
   "outputs": [
    {
     "name": "stdout",
     "output_type": "stream",
     "text": [
      "      name  age      city\n",
      "0    Alice   25  New York\n",
      "1      Bob   32     Paris\n",
      "2  Charlie   18    London\n",
      "3    David   47    Berlin\n",
      "0      Eva   29      Rome\n",
      "1    Frank   23    Sydney\n",
      "2    Grace   37     Tokyo\n",
      "3    Henry   31    Moscow\n"
     ]
    }
   ],
   "source": [
    "import pandas as pd\n",
    "\n",
    "# 創建兩個DataFrame物件\n",
    "data1 = {'name': ['Alice', 'Bob', 'Charlie', 'David'],\n",
    "         'age': [25, 32, 18, 47],\n",
    "         'city': ['New York', 'Paris', 'London', 'Berlin']}\n",
    "df1 = pd.DataFrame(data1)\n",
    "\n",
    "data2 = {'name': ['Eva', 'Frank', 'Grace', 'Henry'],\n",
    "         'age': [29, 23, 37, 31],\n",
    "         'city': ['Rome', 'Sydney', 'Tokyo', 'Moscow']}\n",
    "df2 = pd.DataFrame(data2)\n",
    "# 沿著列軸合併\n",
    "print(pd.concat([df1, df2], axis=0))"
   ]
  },
  {
   "cell_type": "code",
   "execution_count": 55,
   "metadata": {},
   "outputs": [
    {
     "name": "stdout",
     "output_type": "stream",
     "text": [
      "      name  age  gender      city  salary\n",
      "0    Alice   25  female  New York   50000\n",
      "1      Bob   32    male     Paris   80000\n",
      "2  Charlie   18  female    London   25000\n",
      "3    David   47    male    Berlin  100000\n",
      "4     Emma   23  female  New York   35000\n",
      "5    Frank   31    male     Paris   75000\n"
     ]
    }
   ],
   "source": [
    "import pandas as pd\n",
    "\n",
    "data = {'name': ['Alice', 'Bob', 'Charlie', 'David', 'Emma', 'Frank'],\n",
    "        'age': [25, 32, 18, 47, 23, 31],\n",
    "        'gender': ['female', 'male', 'female', 'male', 'female', 'male'],\n",
    "        'city': ['New York', 'Paris', 'London', 'Berlin', 'New York', 'Paris'],\n",
    "        'salary': [50000, 80000, 25000, 100000, 35000, 75000]}\n",
    "df = pd.DataFrame(data)\n",
    "print(df)"
   ]
  },
  {
   "cell_type": "code",
   "execution_count": 56,
   "metadata": {},
   "outputs": [
    {
     "name": "stdout",
     "output_type": "stream",
     "text": [
      "          name   age    salary\n",
      "city                          \n",
      "Berlin       1  47.0  100000.0\n",
      "London       1  18.0   25000.0\n",
      "New York     2  24.0   42500.0\n",
      "Paris        2  31.5   77500.0\n"
     ]
    }
   ],
   "source": [
    "grouped = df.groupby('city')\n",
    "result = grouped.agg({'name': 'count', 'age': 'mean', 'salary': 'mean'})\n",
    "print(result)"
   ]
  },
  {
   "cell_type": "code",
   "execution_count": null,
   "metadata": {},
   "outputs": [],
   "source": []
  },
  {
   "cell_type": "markdown",
   "metadata": {},
   "source": [
    "##### Homework 01"
   ]
  },
  {
   "cell_type": "code",
   "execution_count": 50,
   "metadata": {},
   "outputs": [
    {
     "name": "stdout",
     "output_type": "stream",
     "text": [
      "     0   1   2   3\n",
      "0   25  24  28  12\n",
      "1   39  28  28  13\n",
      "4   21  29  34  33\n",
      "5   25  39  18  37\n",
      "9   39  11  36  14\n",
      "10  26  17  13  29\n",
      "12  32  39  24  36\n",
      "13  34  29  14  11\n",
      "14  28  15  11  21\n",
      "     0   1   2   3\n",
      "1   39  28  28  13\n",
      "2   18  37  16  21\n",
      "5   25  39  18  37\n",
      "12  32  39  24  36\n",
      "13  34  29  14  11\n",
      "     0   1   2   3\n",
      "0   25  24  28  12\n",
      "2   18  37  16  21\n",
      "3   19  26  35  20\n",
      "4   21  29  34  33\n",
      "5   25  39  18  37\n",
      "6   12  10  18  21\n",
      "7   14  20  28  10\n",
      "8   13  37  30  14\n",
      "10  26  17  13  29\n",
      "11  11  31  19  34\n",
      "12  32  39  24  36\n",
      "14  28  15  11  21\n",
      "     0   1   2   3\n",
      "1   39  28  28  13\n",
      "4   21  29  34  33\n",
      "5   25  39  18  37\n",
      "12  32  39  24  36\n"
     ]
    }
   ],
   "source": [
    "import pandas as pd\n",
    "import numpy as np\n",
    "df = pd.DataFrame(np.random.randint(10, 40, 60).reshape(-1, 4))\n",
    "#print(df)\n",
    "# - 1. filtered by first column > 20?\n",
    "\n",
    "q1 = df[0] > 20\n",
    "print(df[q1])\n",
    "\n",
    "# - 2. filtered by first column + second column > 50\n",
    "Q2 = df[0] + df[1] > 50\n",
    "print(df[Q2])\n",
    "\n",
    "# - 3. filtered by first column < 30 or second column > 30\n",
    "F3 = (df[0]  <30) |  (df[1] > 30)\n",
    "print(df[F3])\n",
    "\n",
    "# - 4. filtered by total sum of row > 100\n",
    "mask4 = df.sum(axis=1) > 100\n",
    "print(df[mask4])"
   ]
  },
  {
   "cell_type": "markdown",
   "metadata": {},
   "source": [
    "##### Homework 02"
   ]
  },
  {
   "cell_type": "code",
   "execution_count": 60,
   "metadata": {},
   "outputs": [
    {
     "name": "stdout",
     "output_type": "stream",
     "text": [
      "         visitor\n",
      "weekday         \n",
      "Mon          782\n",
      "Sun          376\n"
     ]
    }
   ],
   "source": [
    "import pandas as pd\n",
    "import numpy as np\n",
    "\n",
    "d = [\n",
    "    {'city': 'Austin', 'visitor': 139, 'weekday': 'Sun'},\n",
    "    {'city': 'Dallas', 'visitor': 237, 'weekday': 'Sun'},\n",
    "    {'city': 'Austin', 'visitor': 326, 'weekday': 'Mon'},\n",
    "    {'city': 'Dallas', 'visitor': 456, 'weekday': 'Mon'}\n",
    "]\n",
    "df = pd.DataFrame(d)\n",
    "grouped = df.groupby('weekday')\n",
    "result = grouped.agg({'visitor':'sum'})\n",
    "print(result)"
   ]
  },
  {
   "cell_type": "markdown",
   "metadata": {},
   "source": [
    "##### Homework 03"
   ]
  },
  {
   "cell_type": "code",
   "execution_count": 66,
   "metadata": {},
   "outputs": [
    {
     "name": "stdout",
     "output_type": "stream",
     "text": [
      "<pandas.core.groupby.generic.DataFrameGroupBy object at 0x00000243B714B050>\n",
      "     醫事機構名稱\n",
      "縣市         \n",
      "新北市    1256\n",
      "臺中市     855\n",
      "臺北市     780\n",
      "高雄市     718\n",
      "桃園市     670\n"
     ]
    }
   ],
   "source": [
    "import pandas as pd\n",
    "\n",
    "# 讀取CSV文件\n",
    "data = pd.read_csv('https://raw.githubusercontent.com/kiang/pharmacies/master/data.csv')\n",
    "top_5 = data.groupby('縣市')\n",
    "result_top_5 = top_5.agg({'醫事機構名稱' : 'count'}).sort_values(by = '醫事機構名稱', ascending=False)\n",
    "print(result_top_5[0:5])"
   ]
  }
 ],
 "metadata": {
  "kernelspec": {
   "display_name": "ml_evnv",
   "language": "python",
   "name": "python3"
  },
  "language_info": {
   "codemirror_mode": {
    "name": "ipython",
    "version": 3
   },
   "file_extension": ".py",
   "mimetype": "text/x-python",
   "name": "python",
   "nbconvert_exporter": "python",
   "pygments_lexer": "ipython3",
   "version": "3.12.2"
  }
 },
 "nbformat": 4,
 "nbformat_minor": 2
}
